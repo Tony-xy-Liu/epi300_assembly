{
 "cells": [
  {
   "cell_type": "code",
   "execution_count": 2,
   "metadata": {},
   "outputs": [],
   "source": [
    "import os\n",
    "from local.constants import WORKSPACE_ROOT"
   ]
  },
  {
   "cell_type": "code",
   "execution_count": 3,
   "metadata": {},
   "outputs": [
    {
     "data": {
      "text/plain": [
       "0"
      ]
     },
     "execution_count": 3,
     "metadata": {},
     "output_type": "execute_result"
    }
   ],
   "source": [
    "os.system(f\"\"\"\\\n",
    "    NanoPlot -t 14 --raw \\\n",
    "        -o {WORKSPACE_ROOT}/data/read_qc/nanoplot \\\n",
    "        --fastq {WORKSPACE_ROOT}/data/Epi300_RC.fastq.gz\n",
    "\"\"\")"
   ]
  },
  {
   "cell_type": "code",
   "execution_count": 4,
   "metadata": {},
   "outputs": [
    {
     "data": {
      "text/plain": [
       "0"
      ]
     },
     "execution_count": 4,
     "metadata": {},
     "output_type": "execute_result"
    }
   ],
   "source": [
    "os.system(f\"\"\"\\\n",
    "    NanoPlot -t 14 --raw \\\n",
    "        -o {WORKSPACE_ROOT}/data/read_qc/nanoplot.qced \\\n",
    "        --fastq {WORKSPACE_ROOT}/data/Epi300_RC.qc.fastq.gz\n",
    "\"\"\")"
   ]
  }
 ],
 "metadata": {
  "kernelspec": {
   "display_name": "p312",
   "language": "python",
   "name": "python3"
  },
  "language_info": {
   "codemirror_mode": {
    "name": "ipython",
    "version": 3
   },
   "file_extension": ".py",
   "mimetype": "text/x-python",
   "name": "python",
   "nbconvert_exporter": "python",
   "pygments_lexer": "ipython3",
   "version": "3.7.12"
  }
 },
 "nbformat": 4,
 "nbformat_minor": 2
}
