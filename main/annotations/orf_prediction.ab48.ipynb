{
 "cells": [
  {
   "cell_type": "code",
   "execution_count": 6,
   "metadata": {},
   "outputs": [],
   "source": [
    "from pathlib import Path\n",
    "import os\n",
    "from Bio import SeqIO, Seq\n",
    "\n",
    "from local.constants import WORKSPACE_ROOT"
   ]
  },
  {
   "cell_type": "code",
   "execution_count": 7,
   "metadata": {},
   "outputs": [],
   "source": [
    "NAME = \"ab48\"\n",
    "assembly = WORKSPACE_ROOT/f\"data/assembly/{NAME}.fna\"\n",
    "orf_prediction = WORKSPACE_ROOT/\"data/orf_prediction\"\n",
    "orf_prediction.mkdir(parents=True, exist_ok=True)"
   ]
  },
  {
   "cell_type": "code",
   "execution_count": 8,
   "metadata": {},
   "outputs": [
    {
     "name": "stderr",
     "output_type": "stream",
     "text": [
      "-------------------------------------\n",
      "PRODIGAL v2.6.3 [February, 2016]         \n",
      "Univ of Tenn / Oak Ridge National Lab\n",
      "Doug Hyatt, Loren Hauser, et al.     \n",
      "-------------------------------------\n",
      "Request:  Single Genome, Phase:  Training\n",
      "Reading in the sequence(s) to train...4799092 bp seq created, 51.65 pct GC\n",
      "Locating all potential starts and stops...228420 nodes\n",
      "Looking for GC bias in different frames...frame bias scores: 2.12 0.16 0.72\n",
      "Building initial set of genes to train from...done!\n",
      "Creating coding model and scoring nodes...done!\n",
      "Examining upstream regions and training starts...done!\n",
      "-------------------------------------\n",
      "Request:  Single Genome, Phase:  Gene Finding\n",
      "Finding genes in sequence #1 (4747469 bp)...done!\n",
      "Finding genes in sequence #2 (51599 bp)...done!\n"
     ]
    }
   ],
   "source": [
    "prodigal_out = orf_prediction/f\"{NAME}.prodigal.faa\"\n",
    "if (prodigal_out).exists():\n",
    "    print(\"ORF prediction already done\")\n",
    "else:\n",
    "    os.system(f\"\"\"\n",
    "        prodigal -f gff \\\n",
    "            -i {assembly} \\\n",
    "            -o {orf_prediction}/{NAME}.gff \\\n",
    "            -a {prodigal_out} \\\n",
    "    \"\"\")"
   ]
  },
  {
   "cell_type": "code",
   "execution_count": 9,
   "metadata": {},
   "outputs": [],
   "source": [
    "OUTPUT = \"\"\"\n",
    "-------------------------------------\n",
    "PRODIGAL v2.6.3 [February, 2016]         \n",
    "Univ of Tenn / Oak Ridge National Lab\n",
    "Doug Hyatt, Loren Hauser, et al.     \n",
    "-------------------------------------\n",
    "Request:  Single Genome, Phase:  Training\n",
    "Reading in the sequence(s) to train...4799092 bp seq created, 51.65 pct GC\n",
    "Locating all potential starts and stops...228420 nodes\n",
    "Looking for GC bias in different frames...frame bias scores: 2.12 0.16 0.72\n",
    "Building initial set of genes to train from...done!\n",
    "Creating coding model and scoring nodes...done!\n",
    "Examining upstream regions and training starts...done!\n",
    "-------------------------------------\n",
    "Request:  Single Genome, Phase:  Gene Finding\n",
    "Finding genes in sequence #1 (4747469 bp)...done!\n",
    "Finding genes in sequence #2 (51599 bp)...done!\n",
    "\"\"\""
   ]
  },
  {
   "cell_type": "code",
   "execution_count": 10,
   "metadata": {},
   "outputs": [],
   "source": [
    "with open(orf_prediction/f\"{NAME}.faa\", \"w\") as f:\n",
    "    for e in SeqIO.parse(prodigal_out, \"fasta\"):\n",
    "        e.seq = Seq.Seq(str(e.seq).replace(\"*\", \"\"))\n",
    "        e.description = e.id\n",
    "        SeqIO.write(e, f, \"fasta\")"
   ]
  }
 ],
 "metadata": {
  "kernelspec": {
   "display_name": "p312",
   "language": "python",
   "name": "python3"
  },
  "language_info": {
   "codemirror_mode": {
    "name": "ipython",
    "version": 3
   },
   "file_extension": ".py",
   "mimetype": "text/x-python",
   "name": "python",
   "nbconvert_exporter": "python",
   "pygments_lexer": "ipython3",
   "version": "3.12.2"
  }
 },
 "nbformat": 4,
 "nbformat_minor": 2
}
