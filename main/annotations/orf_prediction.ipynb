{
 "cells": [
  {
   "cell_type": "code",
   "execution_count": 2,
   "metadata": {},
   "outputs": [],
   "source": [
    "from pathlib import Path\n",
    "import os\n",
    "from Bio import SeqIO, Seq\n",
    "\n",
    "from local.constants import WORKSPACE_ROOT"
   ]
  },
  {
   "cell_type": "code",
   "execution_count": 9,
   "metadata": {},
   "outputs": [
    {
     "name": "stderr",
     "output_type": "stream",
     "text": [
      "-------------------------------------\n",
      "PRODIGAL v2.6.3 [February, 2016]         \n",
      "Univ of Tenn / Oak Ridge National Lab\n",
      "Doug Hyatt, Loren Hauser, et al.     \n",
      "-------------------------------------\n",
      "Request:  Single Genome, Phase:  Training\n",
      "Reading in the sequence(s) to train...4837848 bp seq created, 50.76 pct GC\n",
      "Locating all potential starts and stops...250452 nodes\n",
      "Looking for GC bias in different frames...frame bias scores: 1.56 0.19 1.25\n",
      "Building initial set of genes to train from...done!\n",
      "Creating coding model and scoring nodes...done!\n",
      "Examining upstream regions and training starts...done!\n",
      "-------------------------------------\n",
      "Request:  Single Genome, Phase:  Gene Finding\n",
      "Finding genes in sequence #1 (4553367 bp)...done!\n",
      "Finding genes in sequence #2 (49295 bp)...done!\n",
      "Finding genes in sequence #3 (39050 bp)...done!\n",
      "Finding genes in sequence #4 (26753 bp)...done!\n",
      "Finding genes in sequence #5 (25011 bp)...done!\n",
      "Finding genes in sequence #6 (24326 bp)...done!\n",
      "Finding genes in sequence #7 (16074 bp)...done!\n",
      "Finding genes in sequence #8 (11985 bp)...done!\n",
      "Finding genes in sequence #9 (7639 bp)...done!\n",
      "Finding genes in sequence #10 (7075 bp)...done!\n",
      "Finding genes in sequence #11 (5522 bp)...done!\n",
      "Finding genes in sequence #12 (5297 bp)...done!\n",
      "Finding genes in sequence #13 (5001 bp)...done!\n",
      "Finding genes in sequence #14 (4538 bp)...done!\n",
      "Finding genes in sequence #15 (4107 bp)...done!\n",
      "Finding genes in sequence #16 (4001 bp)...done!\n",
      "Finding genes in sequence #17 (3243 bp)...done!\n",
      "Finding genes in sequence #18 (3000 bp)...done!\n",
      "Finding genes in sequence #19 (3000 bp)...done!\n",
      "Finding genes in sequence #20 (2002 bp)...done!\n",
      "Finding genes in sequence #21 (2001 bp)...done!\n",
      "Finding genes in sequence #22 (2000 bp)...done!\n",
      "Finding genes in sequence #23 (2000 bp)...done!\n",
      "Finding genes in sequence #24 (2000 bp)...done!\n",
      "Finding genes in sequence #25 (2000 bp)...done!\n",
      "Finding genes in sequence #26 (2000 bp)...done!\n",
      "Finding genes in sequence #27 (2000 bp)...done!\n",
      "Finding genes in sequence #28 (2000 bp)...done!\n",
      "Finding genes in sequence #29 (2000 bp)...done!\n",
      "Finding genes in sequence #30 (2000 bp)...done!\n",
      "Finding genes in sequence #31 (2000 bp)...done!\n",
      "Finding genes in sequence #32 (2000 bp)...done!\n",
      "Finding genes in sequence #33 (2000 bp)...done!\n",
      "Finding genes in sequence #34 (2000 bp)...done!\n",
      "Finding genes in sequence #35 (2000 bp)...done!\n",
      "Finding genes in sequence #36 (1999 bp)...done!\n",
      "Finding genes in sequence #37 (1999 bp)...done!\n",
      "Finding genes in sequence #38 (1999 bp)...done!\n",
      "Finding genes in sequence #39 (457 bp)...done!\n",
      "Finding genes in sequence #40 (357 bp)...done!\n",
      "Finding genes in sequence #41 (165 bp)...done!\n",
      "Finding genes in sequence #42 (81 bp)...done!\n"
     ]
    },
    {
     "data": {
      "text/plain": [
       "0"
      ]
     },
     "execution_count": 9,
     "metadata": {},
     "output_type": "execute_result"
    }
   ],
   "source": [
    "assembly = WORKSPACE_ROOT/\"data/assembly/epi300.fna\"\n",
    "orf_prediction = WORKSPACE_ROOT/\"data/orf_prediction\"\n",
    "orf_prediction.mkdir(parents=True, exist_ok=True)\n",
    "\n",
    "os.system(f\"\"\"\n",
    "    prodigal -f gff \\\n",
    "        -i {assembly} \\\n",
    "        -o {orf_prediction}/epi300.gff \\\n",
    "        -a {orf_prediction}/epi300.prodigal.faa \\\n",
    "\"\"\")"
   ]
  },
  {
   "cell_type": "code",
   "execution_count": 16,
   "metadata": {},
   "outputs": [],
   "source": [
    "with open(orf_prediction/\"epi300.faa\", \"w\") as f:\n",
    "    for e in SeqIO.parse(orf_prediction/\"epi300.prodigal.faa\", \"fasta\"):\n",
    "        e.seq = Seq.Seq(str(e.seq).replace(\"*\", \"\"))\n",
    "        SeqIO.write(e, f, \"fasta\")"
   ]
  },
  {
   "cell_type": "code",
   "execution_count": 4,
   "metadata": {},
   "outputs": [],
   "source": [
    "# no, use the reference ORFs from NCBI\n",
    "\n",
    "# def orf_pred(name, assembly, outdir):\n",
    "#     assembly = WORKSPACE_ROOT/\"data/assembly/epi300.fna\"\n",
    "#     orf_prediction = outdir\n",
    "#     orf_prediction.mkdir(parents=True, exist_ok=True)\n",
    "\n",
    "#     os.system(f\"\"\"\n",
    "#         prodigal -f gff \\\n",
    "#             -i {assembly} \\\n",
    "#             -o {orf_prediction}/{name}.gff \\\n",
    "#             -a {orf_prediction}/{name}.prodigal.faa \\so\n",
    "#     \"\"\")\n",
    "\n",
    "#     with open(orf_prediction/f\"{name}.faa\", \"w\") as f:\n",
    "#         for e in SeqIO.parse(orf_prediction/f\"{name}.prodigal.faa\", \"fasta\"):\n",
    "#             e.seq = Seq.Seq(str(e.seq).replace(\"*\", \"\"))\n",
    "#             SeqIO.write(e, f, \"fasta\")\n",
    "\n",
    "# for n, f in [\n",
    "#     (\"dh5alpha\", WORKSPACE_ROOT/\"data/reference_genomes/dh5alpha/dh5alpha_CP026085.1.fna\"),\n",
    "#     (\"k12mg1655\", WORKSPACE_ROOT/\"data/reference_genomes/k12mg1655/k12mg1655_NC_000913.3.fna\"),\n",
    "# ]:\n",
    "#     orf_pred(n, f, f.parent/\"orf_prediction\")"
   ]
  }
 ],
 "metadata": {
  "kernelspec": {
   "display_name": "p312",
   "language": "python",
   "name": "python3"
  },
  "language_info": {
   "codemirror_mode": {
    "name": "ipython",
    "version": 3
   },
   "file_extension": ".py",
   "mimetype": "text/x-python",
   "name": "python",
   "nbconvert_exporter": "python",
   "pygments_lexer": "ipython3",
   "version": "3.12.2"
  }
 },
 "nbformat": 4,
 "nbformat_minor": 2
}
