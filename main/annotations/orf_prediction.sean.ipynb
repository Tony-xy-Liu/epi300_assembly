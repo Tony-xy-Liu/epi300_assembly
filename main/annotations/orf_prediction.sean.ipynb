{
 "cells": [
  {
   "cell_type": "code",
   "execution_count": 2,
   "metadata": {},
   "outputs": [],
   "source": [
    "from pathlib import Path\n",
    "import os\n",
    "from Bio import SeqIO, Seq\n",
    "\n",
    "from local.constants import WORKSPACE_ROOT"
   ]
  },
  {
   "cell_type": "code",
   "execution_count": 3,
   "metadata": {},
   "outputs": [],
   "source": [
    "# assembly = WORKSPACE_ROOT/\"data/sean/assembly/epi300.fna\"\n",
    "# orf_prediction = WORKSPACE_ROOT/\"data/sean/orf_prediction\"\n",
    "\n",
    "# accepted Sean's assembly as cannon\n",
    "assembly = WORKSPACE_ROOT/\"data/assembly/epi300.fna\"\n",
    "orf_prediction = WORKSPACE_ROOT/\"data/orf_prediction\"\n",
    "orf_prediction.mkdir(parents=True, exist_ok=True)"
   ]
  },
  {
   "cell_type": "code",
   "execution_count": 3,
   "metadata": {},
   "outputs": [
    {
     "name": "stderr",
     "output_type": "stream",
     "text": [
      "-------------------------------------\n",
      "PRODIGAL v2.6.3 [February, 2016]         \n",
      "Univ of Tenn / Oak Ridge National Lab\n",
      "Doug Hyatt, Loren Hauser, et al.     \n",
      "-------------------------------------\n",
      "Request:  Single Genome, Phase:  Training\n",
      "Reading in the sequence(s) to train...4691561 bp seq created, 50.78 pct GC\n",
      "Locating all potential starts and stops...243330 nodes\n",
      "Looking for GC bias in different frames...frame bias scores: 1.54 0.19 1.27\n",
      "Building initial set of genes to train from...done!\n",
      "Creating coding model and scoring nodes...done!\n",
      "Examining upstream regions and training starts...done!\n",
      "-------------------------------------\n",
      "Request:  Single Genome, Phase:  Gene Finding\n",
      "Finding genes in sequence #1 (4691561 bp)...done!\n"
     ]
    },
    {
     "data": {
      "text/plain": [
       "0"
      ]
     },
     "execution_count": 3,
     "metadata": {},
     "output_type": "execute_result"
    }
   ],
   "source": [
    "if (orf_prediction/\"epi300.prodigal.faa\").exists():\n",
    "    print(\"ORF prediction already done\")\n",
    "else:\n",
    "    os.system(f\"\"\"\n",
    "        prodigal -f gff \\\n",
    "            -i {assembly} \\\n",
    "            -o {orf_prediction}/epi300.gff \\\n",
    "            -a {orf_prediction}/epi300.prodigal.faa \\\n",
    "    \"\"\")"
   ]
  },
  {
   "cell_type": "code",
   "execution_count": null,
   "metadata": {},
   "outputs": [],
   "source": [
    "OUTPUT = \"\"\"\n",
    "-------------------------------------\n",
    "PRODIGAL v2.6.3 [February, 2016]         \n",
    "Univ of Tenn / Oak Ridge National Lab\n",
    "Doug Hyatt, Loren Hauser, et al.     \n",
    "-------------------------------------\n",
    "Request:  Single Genome, Phase:  Training\n",
    "Reading in the sequence(s) to train...4691561 bp seq created, 50.78 pct GC\n",
    "Locating all potential starts and stops...243330 nodes\n",
    "Looking for GC bias in different frames...frame bias scores: 1.54 0.19 1.27\n",
    "Building initial set of genes to train from...done!\n",
    "Creating coding model and scoring nodes...done!\n",
    "Examining upstream regions and training starts...done!\n",
    "-------------------------------------\n",
    "Request:  Single Genome, Phase:  Gene Finding\n",
    "Finding genes in sequence #1 (4691561 bp)...done!\n",
    "\"\"\""
   ]
  },
  {
   "cell_type": "code",
   "execution_count": 4,
   "metadata": {},
   "outputs": [],
   "source": [
    "with open(orf_prediction/\"epi300.faa\", \"w\") as f:\n",
    "    for e in SeqIO.parse(orf_prediction/\"epi300.prodigal.faa\", \"fasta\"):\n",
    "        e.seq = Seq.Seq(str(e.seq).replace(\"*\", \"\"))\n",
    "        e.description = e.id\n",
    "        SeqIO.write(e, f, \"fasta\")"
   ]
  },
  {
   "cell_type": "code",
   "execution_count": 15,
   "metadata": {},
   "outputs": [],
   "source": [
    "with open(orf_prediction/\"epi300.bar_headers.faa\", \"w\") as f:\n",
    "    for e in SeqIO.parse(orf_prediction/\"epi300.prodigal.faa\", \"fasta\"):\n",
    "        e.seq = Seq.Seq(str(e.seq).replace(\"*\", \"\"))\n",
    "        cont, orf = e.id.split(\"_\")\n",
    "        n = int(orf)\n",
    "        c = int(cont[1:])\n",
    "        # https://www.uniprot.org/help/accession_numbers\n",
    "        # ns = f\"{n:04}\"\n",
    "        # na, nb = ns[:3], ns[3:]\n",
    "        a, b =  f\"db|{e.id}|e{e.id}\", \"\"\n",
    "        e.id, e.description = a, b\n",
    "        SeqIO.write(e, f, \"fasta\")"
   ]
  },
  {
   "cell_type": "code",
   "execution_count": 13,
   "metadata": {},
   "outputs": [],
   "source": [
    "with open(orf_prediction/\"epi300.uniprot_headers.faa\", \"w\") as f:\n",
    "    for e in SeqIO.parse(orf_prediction/\"epi300.prodigal.faa\", \"fasta\"):\n",
    "        e.seq = Seq.Seq(str(e.seq).replace(\"*\", \"\"))\n",
    "        cont, orf = e.id.split(\"_\")\n",
    "        n = int(orf)\n",
    "        c = int(cont[1:])\n",
    "        # https://www.uniprot.org/help/accession_numbers\n",
    "        ns = f\"{n:04}\"\n",
    "        na, nb = ns[:3], ns[3:]\n",
    "        a, b =  f\"sp|C{c}P{na}X{nb}|X{ns}_ECOLI\", f\"hypothetical protein {e.id}\"\n",
    "        e.id, e.description = a, b\n",
    "        SeqIO.write(e, f, \"fasta\")"
   ]
  }
 ],
 "metadata": {
  "kernelspec": {
   "display_name": "p312",
   "language": "python",
   "name": "python3"
  },
  "language_info": {
   "codemirror_mode": {
    "name": "ipython",
    "version": 3
   },
   "file_extension": ".py",
   "mimetype": "text/x-python",
   "name": "python",
   "nbconvert_exporter": "python",
   "pygments_lexer": "ipython3",
   "version": "3.12.2"
  }
 },
 "nbformat": 4,
 "nbformat_minor": 2
}
