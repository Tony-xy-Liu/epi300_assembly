{
 "cells": [
  {
   "cell_type": "code",
   "execution_count": 2,
   "metadata": {},
   "outputs": [],
   "source": [
    "from pathlib import Path\n",
    "import os\n",
    "from Bio import SeqIO, Seq\n",
    "\n",
    "from local.constants import WORKSPACE_ROOT"
   ]
  },
  {
   "cell_type": "code",
   "execution_count": 3,
   "metadata": {},
   "outputs": [],
   "source": [
    "NAME = \"CB2A_JS4038\"\n",
    "assembly = WORKSPACE_ROOT/f\"data/assembly/{NAME}.fna\"\n",
    "orf_prediction = WORKSPACE_ROOT/\"data/orf_prediction\"\n",
    "orf_prediction.mkdir(parents=True, exist_ok=True)"
   ]
  },
  {
   "cell_type": "code",
   "execution_count": 4,
   "metadata": {},
   "outputs": [
    {
     "name": "stderr",
     "output_type": "stream",
     "text": [
      "-------------------------------------\n",
      "PRODIGAL v2.6.3 [February, 2016]         \n",
      "Univ of Tenn / Oak Ridge National Lab\n",
      "Doug Hyatt, Loren Hauser, et al.     \n",
      "-------------------------------------\n",
      "Request:  Single Genome, Phase:  Training\n",
      "Reading in the sequence(s) to train...4121253 bp seq created, 67.24 pct GC\n",
      "Locating all potential starts and stops...214739 nodes\n",
      "Looking for GC bias in different frames...frame bias scores: 0.66 0.11 2.23\n",
      "Building initial set of genes to train from...done!\n",
      "Creating coding model and scoring nodes...done!\n",
      "Examining upstream regions and training starts...done!\n",
      "-------------------------------------\n",
      "Request:  Single Genome, Phase:  Gene Finding\n",
      "Finding genes in sequence #1 (4121253 bp)...done!\n"
     ]
    }
   ],
   "source": [
    "prodigal_out = orf_prediction/f\"{NAME}.prodigal.faa\"\n",
    "if (prodigal_out).exists():\n",
    "    print(\"ORF prediction already done\")\n",
    "else:\n",
    "    os.system(f\"\"\"\n",
    "        prodigal -f gff \\\n",
    "            -i {assembly} \\\n",
    "            -o {orf_prediction}/{NAME}.gff \\\n",
    "            -a {prodigal_out} \\\n",
    "    \"\"\")"
   ]
  },
  {
   "cell_type": "code",
   "execution_count": null,
   "metadata": {},
   "outputs": [],
   "source": [
    "OUTPUT = \"\"\"\n",
    "-------------------------------------\n",
    "PRODIGAL v2.6.3 [February, 2016]         \n",
    "Univ of Tenn / Oak Ridge National Lab\n",
    "Doug Hyatt, Loren Hauser, et al.     \n",
    "-------------------------------------\n",
    "Request:  Single Genome, Phase:  Training\n",
    "Reading in the sequence(s) to train...4121253 bp seq created, 67.24 pct GC\n",
    "Locating all potential starts and stops...214739 nodes\n",
    "Looking for GC bias in different frames...frame bias scores: 0.66 0.11 2.23\n",
    "Building initial set of genes to train from...done!\n",
    "Creating coding model and scoring nodes...done!\n",
    "Examining upstream regions and training starts...done!\n",
    "-------------------------------------\n",
    "Request:  Single Genome, Phase:  Gene Finding\n",
    "Finding genes in sequence #1 (4121253 bp)...done!\n",
    "\"\"\""
   ]
  },
  {
   "cell_type": "code",
   "execution_count": 4,
   "metadata": {},
   "outputs": [],
   "source": [
    "with open(orf_prediction/f\"{NAME}.faa\", \"w\") as f:\n",
    "    for e in SeqIO.parse(prodigal_out, \"fasta\"):\n",
    "        e.seq = Seq.Seq(str(e.seq).replace(\"*\", \"\"))\n",
    "        e.description = e.id\n",
    "        SeqIO.write(e, f, \"fasta\")"
   ]
  }
 ],
 "metadata": {
  "kernelspec": {
   "display_name": "p312",
   "language": "python",
   "name": "python3"
  },
  "language_info": {
   "codemirror_mode": {
    "name": "ipython",
    "version": 3
   },
   "file_extension": ".py",
   "mimetype": "text/x-python",
   "name": "python",
   "nbconvert_exporter": "python",
   "pygments_lexer": "ipython3",
   "version": "3.12.2"
  }
 },
 "nbformat": 4,
 "nbformat_minor": 2
}
